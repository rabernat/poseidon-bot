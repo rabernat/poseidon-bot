{
 "cells": [
  {
   "cell_type": "code",
   "execution_count": null,
   "metadata": {},
   "outputs": [],
   "source": [
    "import random\n",
    "import os\n",
    "import twitter\n",
    "import xarray as xr\n",
    "import numpy as np\n",
    "import xgcm \n",
    "from matplotlib import pyplot as plt\n",
    "from matplotlib import image\n",
    "import cmocean\n",
    "import cartopy.crs as ccrs\n",
    "import datetime\n",
    "year = datetime.datetime.now().year\n",
    "%matplotlib inline"
   ]
  },
  {
   "cell_type": "code",
   "execution_count": null,
   "metadata": {},
   "outputs": [],
   "source": [
    "# overwrite this with the value from the tweet if you want to reproduce an exact plot\n",
    "seed = abs(hash(datetime.datetime.now()))\n",
    "print(seed)\n",
    "random.seed(datetime.datetime.now())"
   ]
  },
  {
   "cell_type": "code",
   "execution_count": null,
   "metadata": {},
   "outputs": [],
   "source": [
    "from intake import open_catalog\n",
    "cat = open_catalog(\"https://raw.githubusercontent.com/pangeo-data/pangeo-datastore/master/intake-catalogs/ocean/llc4320.yaml\")\n",
    "list(cat)"
   ]
  },
  {
   "cell_type": "code",
   "execution_count": null,
   "metadata": {},
   "outputs": [],
   "source": [
    "grid_full = cat.LLC4320_grid.to_dask()\n",
    "grid_full"
   ]
  },
  {
   "cell_type": "code",
   "execution_count": null,
   "metadata": {},
   "outputs": [],
   "source": [
    "nside = 1080\n",
    "nt = random.randint(0, grid_full.dims['time'])\n",
    "nface = random.randint(0, grid_full.dims['face'])\n",
    "\n",
    "frac_ocean = 0.\n",
    "frac_ocean_thresh = 0.3\n",
    "while frac_ocean < frac_ocean_thresh:\n",
    "    i_offset = random.randint(0, grid_full.dims['i'] // nside)\n",
    "    j_offset = random.randint(0, grid_full.dims['j'] // nside)\n",
    "    i_slice = slice(nside * i_offset, nside * (i_offset + 1)) \n",
    "    j_slice = slice(nside * j_offset, nside * (j_offset + 1))\n",
    "    selector = dict(time=nt, face=nface, i=i_slice, j=j_slice,\n",
    "                    i_g=i_slice, j_g=j_slice)\n",
    "    grid_ds = grid_full.isel(**selector)\n",
    "    frac_ocean = grid_ds.hFacC.mean().values.item()\n",
    "    if np.isnan(frac_ocean):\n",
    "        frac_ocean = 0.\n",
    "frac_ocean"
   ]
  },
  {
   "cell_type": "code",
   "execution_count": null,
   "metadata": {},
   "outputs": [],
   "source": [
    "grid_ds.Depth.plot()"
   ]
  },
  {
   "cell_type": "code",
   "execution_count": null,
   "metadata": {},
   "outputs": [],
   "source": [
    "ssh = cat.LLC4320_SSH(chunks=False).to_dask().isel(time=nt, face=nface, i=i_slice, j=j_slice)\n",
    "sst = cat.LLC4320_SST(chunks=False).to_dask().isel(time=nt, face=nface, i=i_slice, j=j_slice)\n",
    "# sss has some extra metadata\n",
    "sss = cat.LLC4320_SSS(chunks=False).to_dask().isel(time=nt, face=nface, i=i_slice, j=j_slice)[['SSS']].reset_coords(drop=True)\n",
    "u = cat.LLC4320_SSU(chunks=False).to_dask().isel(time=nt, face=nface, i_g=i_slice, j=j_slice)\n",
    "v = cat.LLC4320_SSV(chunks=False).to_dask().isel(time=nt, face=nface, i=i_slice, j_g=j_slice)\n",
    "ds = xr.merge([grid_ds, ssh, sst, sss, u, v])\n",
    "# vertical coordiantes are not helpful\n",
    "ds = ds.drop(['Z', 'Zl', 'Zp1', 'Zu', 'k', 'k_l', 'k_p1', 'PHrefF', 'drC'])\n",
    "ds"
   ]
  },
  {
   "cell_type": "code",
   "execution_count": null,
   "metadata": {},
   "outputs": [],
   "source": [
    "# fix wraparound lons\n",
    "\n",
    "def maybe_wrap_lon(lon):\n",
    "    if abs(lon.min() - lon.max()) < 180:\n",
    "        return lon\n",
    "    else:\n",
    "        return lon.where(lon > 0, other=(lon + 360))\n",
    "    \n",
    "ds.coords['XC'] = maybe_wrap_lon(ds.XC)\n",
    "ds.coords['YG'] = maybe_wrap_lon(ds.YG)"
   ]
  },
  {
   "cell_type": "code",
   "execution_count": null,
   "metadata": {},
   "outputs": [],
   "source": [
    "grid = xgcm.Grid(ds, periodic=False)\n",
    "grid"
   ]
  },
  {
   "cell_type": "code",
   "execution_count": null,
   "metadata": {},
   "outputs": [],
   "source": [
    "ds['eke'] = 0.5 * (grid.interp(ds.U**2, 'X', boundary='extend')\n",
    "             + grid.interp(ds.V**2, 'Y', boundary='extend'))\n",
    "\n",
    "ds['zeta'] = 1e4 * (-grid.diff(ds.U * ds.dxC, 'Y', boundary='extend') +\n",
    "                    grid.diff(ds.V * ds.dyC, 'X', boundary='extend'))/ds.rAz\n",
    "\n",
    "ds['div'] = (grid.diff(ds.U * ds.dxC, 'X', boundary='extend') +\n",
    "             grid.diff(ds.V * ds.dyC, 'Y', boundary='extend'))/ds.rA"
   ]
  },
  {
   "cell_type": "code",
   "execution_count": null,
   "metadata": {},
   "outputs": [],
   "source": [
    "# fix some metadata\n",
    "ds.zeta.attrs['units'] = r'$10^{-4}$ s$^{-1}$'\n",
    "ds.zeta.attrs['long_name'] = 'Vorticity'\n",
    "\n",
    "ds.SST.attrs['units'] = r'$^\\circ$C'\n",
    "ds.SST.attrs['long_name'] = 'Sea Surface Temperature'\n",
    "\n",
    "ds.SSS.attrs['units'] = r'PSU'\n",
    "ds.SSS.attrs['long_name'] = 'Sea Surface Salinity'\n",
    "\n",
    "ds.Eta.attrs['units'] = r'm'\n",
    "ds.Eta.attrs['long_name'] = 'Sea Surface Height'"
   ]
  },
  {
   "cell_type": "code",
   "execution_count": null,
   "metadata": {},
   "outputs": [],
   "source": [
    "central_lon = ds.XC.mean().values.item()\n",
    "central_lat = ds.YC.mean().values.item()\n",
    "\n",
    "lon_min = ds.XC.min().values.item()\n",
    "lon_max = ds.XC.max().values.item()\n",
    "lon_range = lon_max - lon_min\n",
    "\n",
    "lat_min = ds.YC.min().values.item()\n",
    "lat_max = ds.YC.max().values.item()\n",
    "lat_range = lat_max - lat_min\n",
    "\n",
    "proj = ccrs.Orthographic(central_longitude=central_lon,\n",
    "                         central_latitude=central_lat)\n",
    "\n",
    "date_str = np.datetime_as_string(ds.time.values, timezone='UTC', unit='m')\n",
    "\n",
    "location = f'{central_lon:3.1f}, {central_lat:3.1f} | {date_str}'\n",
    "print(location)"
   ]
  },
  {
   "cell_type": "code",
   "execution_count": null,
   "metadata": {},
   "outputs": [],
   "source": [
    "# tiles near equator are square\n",
    "# towards pole, both dimensions contract\n",
    "scale_lon = 2 + 0.75 * abs(np.deg2rad(central_lat))\n",
    "scale_lat = 2 + 0.3 * abs(np.deg2rad(central_lat))\n",
    "\n",
    "print(scale_lon, scale_lat)\n",
    "\n",
    "extent = [central_lon - lon_range/scale_lon, central_lon + lon_range/scale_lon,\n",
    "          central_lat - lat_range/scale_lat, central_lat + lat_range/scale_lat]"
   ]
  },
  {
   "cell_type": "code",
   "execution_count": null,
   "metadata": {},
   "outputs": [],
   "source": [
    "plt.rcParams['font.size'] = 16\n",
    "\n",
    "img_url = \"https://raw.githubusercontent.com/pangeo-data/branding/master/logo/v_small_pangeo_logo.png\"\n",
    "logo_img = image.imread(img_url)\n",
    "\n",
    "def plot(da, clip_extent=True, **kwargs):\n",
    "    xdim = 'XC' if 'i' in da.dims else 'XG'\n",
    "    ydim = 'YC' if 'j' in da.dims else 'YG'\n",
    "    \n",
    "    fig = plt.figure(figsize=(13, 10))\n",
    "    ax = fig.add_axes([0, 0.02, 1, 0.91],\n",
    "                      projection=ccrs.Orthographic(central_lon, central_lat))\n",
    "    ax.background_patch.set_facecolor('0.6')\n",
    "    if clip_extent:\n",
    "        ax.set_extent(extent, crs=ccrs.PlateCarree())\n",
    "    gl = ax.gridlines()\n",
    "    \n",
    "    da.plot(ax=ax, x=xdim, y=ydim, transform=ccrs.PlateCarree(), **kwargs)\n",
    "    ax.set_title(f'LLC4320 {da.long_name} | {location}')\n",
    "    \n",
    "    logo_axis = fig.add_axes([0.81, 0.017, 0.12, 0.05])\n",
    "    fig.text(0.815, 0.1, f'© Ryan Abernathey\\n{year} CC BY',\n",
    "             fontdict={'size': 11})\n",
    "    logo_axis.imshow(logo_img, interpolation='hanning')\n",
    "    logo_axis.axis('off')\n"
   ]
  },
  {
   "cell_type": "code",
   "execution_count": null,
   "metadata": {},
   "outputs": [],
   "source": [
    "plot(ds.SST, center=False, robust=True, cmap=cmocean.cm.thermal,\n",
    "     cbar_kwargs={'shrink': 0.5})\n",
    "plt.savefig('SST.png')"
   ]
  },
  {
   "cell_type": "code",
   "execution_count": null,
   "metadata": {},
   "outputs": [],
   "source": [
    "plot(ds.SSS, center=False, robust=True, cmap=cmocean.cm.haline,\n",
    "     cbar_kwargs={'shrink': 0.4})\n",
    "plt.savefig('SSS.png')"
   ]
  },
  {
   "cell_type": "code",
   "execution_count": null,
   "metadata": {},
   "outputs": [],
   "source": [
    "plot(ds.Eta, center=False, robust=True, cmap=cmocean.cm.dense_r,\n",
    "     cbar_kwargs={'shrink': 0.4})\n",
    "plt.savefig('SSH.png')"
   ]
  },
  {
   "cell_type": "code",
   "execution_count": null,
   "metadata": {},
   "outputs": [],
   "source": [
    "plot(ds.zeta, robust=True, cmap=cmocean.cm.curl, cbar_kwargs={'shrink': 0.4})\n",
    "plt.savefig('Vort.png')"
   ]
  },
  {
   "cell_type": "code",
   "execution_count": null,
   "metadata": {},
   "outputs": [],
   "source": [
    "consumer_key, consumer_secret, access_key, access_secret = os.environ['TWITTER_SECRET'].split(':')\n",
    "\n",
    "api = twitter.Api(consumer_key=consumer_key,\n",
    "                  consumer_secret=consumer_secret,\n",
    "                  access_token_key=access_key,\n",
    "                  access_token_secret=access_secret)\n",
    "api"
   ]
  },
  {
   "cell_type": "code",
   "execution_count": null,
   "metadata": {},
   "outputs": [],
   "source": [
    "media = []\n",
    "for fname in ['SST.png', 'SSS.png', 'SSH.png', 'Vort.png']:\n",
    "    with open(fname, 'rb') as f:\n",
    "        media.append(api.UploadMediaChunked(f))"
   ]
  },
  {
   "cell_type": "code",
   "execution_count": null,
   "metadata": {},
   "outputs": [],
   "source": [
    "caption = (f'LLC4320 Ocean Simulation\\n'\n",
    "           f'Random seed: {seed}\\n'\n",
    "           f'Coordinates: {location}\\n'\n",
    "           'https://github.com/rabernat/poseidon-bot\\n')\n",
    "api.PostUpdate(caption, media=media)"
   ]
  },
  {
   "cell_type": "code",
   "execution_count": null,
   "metadata": {},
   "outputs": [],
   "source": []
  }
 ],
 "metadata": {
  "kernelspec": {
   "display_name": "Python 3",
   "language": "python",
   "name": "python3"
  },
  "language_info": {
   "codemirror_mode": {
    "name": "ipython",
    "version": 3
   },
   "file_extension": ".py",
   "mimetype": "text/x-python",
   "name": "python",
   "nbconvert_exporter": "python",
   "pygments_lexer": "ipython3",
   "version": "3.7.3"
  }
 },
 "nbformat": 4,
 "nbformat_minor": 4
}
